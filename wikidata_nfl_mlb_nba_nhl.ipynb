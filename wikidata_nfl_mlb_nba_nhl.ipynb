{
 "cells": [
  {
   "cell_type": "code",
   "execution_count": 1,
   "id": "e3bcdd98",
   "metadata": {},
   "outputs": [],
   "source": [
    "import pandas as pd\n",
    "import numpy as np\n",
    "import scipy.stats as stats\n",
    "import re\n",
    "from scipy.stats import ttest_rel\n",
    "import warnings\n",
    "warnings.filterwarnings('ignore')"
   ]
  },
  {
   "cell_type": "markdown",
   "id": "732bb3fd",
   "metadata": {},
   "source": [
    "### Read in the file of metropolitan regions and associated sports teams from [wikipedia_data.html](wikipedia_data.html). Each of these regions may have one or more teams from the \"Big 4\": NFL (football, in [nfl.csv](nfl.csv)), MLB (baseball, in [mlb.csv](mlb.csv)), NBA (basketball, in [nba.csv](nba.csv) or NHL (hockey, in [nhl.csv](nhl.csv)). \n",
    "The metropolitan region file is the \"source of authority\" for the location of a given sports team. Thus, teams which are commonly known by a different area (e.g. \"Oakland Raiders\") need to be mapped into the metropolitan region given (e.g. San Francisco Bay Area).\n",
    "For each sport we are going to answer the question: **what is the win/loss ratio's correlation with the population of the city it is in using 2018 data**. Win/Loss ratio refers to the number of wins over the number of wins plus the number of losses. "
   ]
  },
  {
   "cell_type": "code",
   "execution_count": 2,
   "id": "4c1a613a",
   "metadata": {},
   "outputs": [],
   "source": [
    "nhl_df=pd.read_csv(\"nhl.csv\")\n",
    "nba_df=pd.read_csv(\"nba.csv\")\n",
    "mlb_df=pd.read_csv(\"mlb.csv\")\n",
    "nfl_df=pd.read_csv(\"nfl.csv\")\n",
    "cities=pd.read_html(\"wikipedia_data.html\")[1]\n",
    "cities=cities.iloc[:-1,[0,3,5,6,7,8]]\n",
    "cities.rename(columns={'Population (2016 est.)[8]': 'Population'}, inplace=True)"
   ]
  },
  {
   "cell_type": "markdown",
   "id": "ac0e6f89",
   "metadata": {},
   "source": [
    "# NHL "
   ]
  },
  {
   "cell_type": "code",
   "execution_count": 3,
   "id": "4534dcd5",
   "metadata": {},
   "outputs": [],
   "source": [
    "# Clean up the NHL data and find the win/loss ratio in a new columns\n",
    "\n",
    "nhl = nhl_df[nhl_df['year'] == 2018]\n",
    "nhl = nhl.iloc[:, [0, 2,3]]\n",
    "nhl['W'].replace('[a-zA-Z]+', np.nan, regex=True, inplace=True)\n",
    "nhl.dropna(inplace = True)\n",
    "nhl['W'] = nhl['W'].astype(float)\n",
    "nhl['L'] = nhl['L'].astype(float)\n",
    "nhl['ratio'] = nhl['W'] / (nhl['W'] + nhl['L'])\n",
    "nhl['metro'] = ''\n",
    "for i in nhl.index:\n",
    "    s = nhl['team'][i] \n",
    "    s = s.split()\n",
    "    nhl['metro'][i] = (s[0]+' '+s[1])\n",
    "nhl.replace(r'[*]', '', regex=True, inplace=True)\n",
    "nhl['metro'].replace({'Tampa Bay':'Tampa Bay Area',\n",
    "                      'Boston Bruins': 'Boston',\n",
    "                     'Toronto Maple': 'Toronto',\n",
    "                     'Florida Panthers': 'Miami–Fort Lauderdale',\n",
    "                     'Detroit Red': 'Detroit',\n",
    "                     'Montreal Canadiens': 'Montreal',\n",
    "                     'Ottawa Senators': 'Ottawa',\n",
    "                     'Buffalo Sabres': 'Buffalo',\n",
    "                     'Washington Capitals': 'Washington, D.C.',\n",
    "                     'Pittsburgh Penguins': 'Pittsburgh',\n",
    "                     'Philadelphia Flyers': 'Philadelphia',\n",
    "                     'Columbus Blue': 'Columbus',\n",
    "                     'New Jersey': 'New York City',\n",
    "                     'Carolina Hurricanes': 'Raleigh',\n",
    "                     'New York': 'New York City',\n",
    "                     'Nashville Predators': 'Nashville',\n",
    "                     'Winnipeg Jets': 'Winnipeg',\n",
    "                     'Minnesota Wild': 'Minneapolis–Saint Paul',\n",
    "                     'Colorado Avalanche': 'Denver',\n",
    "                     'Dallas Stars': 'Dallas–Fort Worth',\n",
    "                     'Chicago Blackhawks': 'Chicago',\n",
    "                     'Vegas Golden': 'Las Vegas',\n",
    "                     'Anaheim Ducks': 'Los Angeles',\n",
    "                     'Calgary Flames': 'Calgary',\n",
    "                     'Edmonton Oilers': 'Edmonton',\n",
    "                     'Vancouver Canucks': 'Vancouver',\n",
    "                     'Arizona Coyotes': 'Phoenix',\n",
    "                     'San Jose': 'San Francisco Bay Area'}, inplace=True)\n"
   ]
  },
  {
   "cell_type": "code",
   "execution_count": 4,
   "id": "4a69ca67",
   "metadata": {},
   "outputs": [],
   "source": [
    "# Clean up the Metropolitan area data for NHL\n",
    "\n",
    "cities_nhl = cities.iloc[:, [0,1,5]]\n",
    "cities_nhl['NHL'].replace('[[].*[]]', '', regex=True, inplace=True)\n",
    "cities_nhl['NHL'].replace('[—]', np.nan, regex=True, inplace=True)\n",
    "cities_nhl['NHL'].replace('', np.nan, regex=True, inplace=True)\n",
    "cities_nhl.dropna(inplace=True)\n",
    "cities_nhl['Population'] = cities_nhl['Population'].astype(np.float)"
   ]
  },
  {
   "cell_type": "code",
   "execution_count": 5,
   "id": "7010022c",
   "metadata": {},
   "outputs": [],
   "source": [
    "# Set Metropolitan area as index in both dataframes then match by Metropolitan area\n",
    "# The final data for NHL has the win/loss ratio and the population of the area\n",
    "\n",
    "cities_nhl.set_index('Metropolitan area', inplace=True)\n",
    "nhl.set_index('metro', inplace=True)\n",
    "    \n",
    "final = pd.merge(nhl, cities_nhl, left_index=True, right_index=True)\n",
    "final_nhl = final.groupby(final.index).agg({'ratio': np.mean, 'Population': 'first'})"
   ]
  },
  {
   "cell_type": "code",
   "execution_count": 7,
   "id": "49456d7f",
   "metadata": {},
   "outputs": [
    {
     "data": {
      "text/plain": [
       "0.012486162921209923"
      ]
     },
     "execution_count": 7,
     "metadata": {},
     "output_type": "execute_result"
    }
   ],
   "source": [
    "# Calculate the win/loss ratio's correlation with the population of the city it is in for the **NHL**\n",
    "\n",
    "stats.pearsonr(final_nhl.Population, final_nhl.ratio)[0]"
   ]
  },
  {
   "cell_type": "markdown",
   "id": "2bd426c7",
   "metadata": {},
   "source": [
    "# NBA"
   ]
  },
  {
   "cell_type": "code",
   "execution_count": 8,
   "id": "7a6a6b33",
   "metadata": {},
   "outputs": [],
   "source": [
    "# Clean-up the NBA data and calculate win/loss ratio in a new column\n",
    "\n",
    "nba = nba_df[nba_df['year'] == 2018]\n",
    "nba = nba.iloc[:, [0,1,2]]\n",
    "nba['W'].replace('[a-zA-Z]+', np.nan, regex=True, inplace=True)\n",
    "nba.dropna(inplace = True)\n",
    "nba['W'] = nba['W'].astype(np.float)\n",
    "nba['L'] = nba['L'].astype(np.float)\n",
    "nba['ratio'] = nba['W'] / (nba['W'] + nba['L'])\n",
    "nba.replace('[(][\\d]{1,2}[)]', '', regex=True, inplace=True)\n",
    "nba.replace('[*]', '', regex=True, inplace=True)\n",
    "nba['team'] = nba['team'].str.strip()\n",
    "nba['metro'] = ''\n",
    "for i in nba.index:\n",
    "    s = nba['team'][i] \n",
    "    s = s.split()\n",
    "    nba['metro'][i] = s[0]\n",
    "nba['metro'].replace({'Indiana': 'Indianapolis',\n",
    "                     'Miami': 'Miami–Fort Lauderdale',\n",
    "                     'Washington': 'Washington, D.C.',\n",
    "                     'New': 'New York City',\n",
    "                     'Brooklyn': 'New York City',\n",
    "                     'Golden': 'San Francisco Bay Area',\n",
    "                     'Oklahoma': 'Oklahoma City',\n",
    "                     'Utah': 'Salt Lake City',\n",
    "                     'San': 'San Antonio',\n",
    "                     'Minnesota': 'Minneapolis–Saint Paul',\n",
    "                     'Los': 'Los Angeles',\n",
    "                     'Dallas': 'Dallas–Fort Worth'}, inplace=True)\n",
    "nba['metro'][20] = 'New Orleans'"
   ]
  },
  {
   "cell_type": "code",
   "execution_count": 9,
   "id": "91b63d38",
   "metadata": {},
   "outputs": [],
   "source": [
    "# Clean-up the Metropolitan area data for NBA\n",
    "\n",
    "cities_nba = cities.iloc[:, [0,1,4]]\n",
    "cities_nba['NBA'].replace('[[].*[]]', '', regex=True, inplace=True)\n",
    "cities_nba['NBA'].replace('[—]', np.nan, regex=True, inplace=True)\n",
    "cities_nba['NBA'].replace('', np.nan, regex=True, inplace=True)\n",
    "cities_nba['NBA'] = cities_nba['NBA'].str.strip()\n",
    "cities_nba.dropna(inplace=True)\n",
    "cities_nba['Population'] = cities_nba['Population'].astype(np.float)"
   ]
  },
  {
   "cell_type": "code",
   "execution_count": 10,
   "id": "24257c49",
   "metadata": {},
   "outputs": [],
   "source": [
    "# Set Metropolitan area as index in both dataframes then match by Metropolitan area\n",
    "# The final data for NBA has the win/loss ratio and the population of the area\n",
    "\n",
    "cities_nba.set_index('Metropolitan area', inplace=True)\n",
    "nba.set_index('metro', inplace=True)\n",
    "    \n",
    "final_nba = pd.merge(nba, cities_nba, left_index=True, right_index=True)\n",
    "final_nba = final_nba.groupby(final_nba.index).agg({'ratio': np.mean, 'Population': 'first'})"
   ]
  },
  {
   "cell_type": "code",
   "execution_count": 11,
   "id": "cb175001",
   "metadata": {},
   "outputs": [
    {
     "data": {
      "text/plain": [
       "-0.17657160252844614"
      ]
     },
     "execution_count": 11,
     "metadata": {},
     "output_type": "execute_result"
    }
   ],
   "source": [
    "# Calculate the win/loss ratio's correlation with the population of the city it is in for the **NBA**\n",
    "\n",
    "stats.pearsonr(final_nba.Population, final_nba.ratio)[0]"
   ]
  },
  {
   "cell_type": "markdown",
   "id": "e4048f65",
   "metadata": {},
   "source": [
    "# MLB"
   ]
  },
  {
   "cell_type": "code",
   "execution_count": 12,
   "id": "be9129f9",
   "metadata": {},
   "outputs": [],
   "source": [
    "# Clean-up the MLB data and calculate win/loss ratio in a new column\n",
    "\n",
    "mlb = mlb_df[mlb_df['year'] == 2018]\n",
    "mlb = mlb.iloc[:, [0,1,2]]\n",
    "mlb['W'].replace('[a-zA-Z]+', np.nan, regex=True, inplace=True)\n",
    "mlb.dropna(inplace = True)\n",
    "mlb['W'] = mlb['W'].astype(np.float)\n",
    "mlb['L'] = mlb['L'].astype(np.float)\n",
    "mlb['ratio'] = mlb['W'] / (mlb['W'] + mlb['L'])\n",
    "mlb['team'] = mlb['team'].str.strip()\n",
    "mlb['metro'] = ''\n",
    "for i in mlb.index:\n",
    "    s = mlb['team'][i] \n",
    "    s = s.split()\n",
    "    mlb['metro'][i] = s[0]\n",
    "mlb['metro'].replace({'New': 'New York City',\n",
    "                     'Tampa': 'Tampa Bay Area',\n",
    "                     'Minnesota': 'Minneapolis–Saint Paul',\n",
    "                     'Kansas': 'Kansas City',\n",
    "                     'Oakland': 'San Francisco Bay Area',\n",
    "                     'Los': 'Los Angeles',\n",
    "                     'Texas': 'Dallas–Fort Worth',\n",
    "                     'Washington': 'Washington, D.C.',\n",
    "                     'Miami': 'Miami–Fort Lauderdale',\n",
    "                     'St.': 'St. Louis',\n",
    "                     'Colorado': 'Denver',\n",
    "                     'Arizona': 'Phoenix',\n",
    "                     'San': 'San Francisco Bay Area'}, inplace=True)\n",
    "mlb['metro'][29] = 'San Diego'"
   ]
  },
  {
   "cell_type": "code",
   "execution_count": 13,
   "id": "baac75a0",
   "metadata": {},
   "outputs": [],
   "source": [
    "# Clean-up the Metropolitan area data for MLB\n",
    "\n",
    "cities_mlb = cities.iloc[:, [0,1,3]]\n",
    "cities_mlb['MLB'].replace('[[].*[]]', '', regex=True, inplace=True)\n",
    "cities_mlb['MLB'].replace('[—]', np.nan, regex=True, inplace=True)\n",
    "cities_mlb['MLB'].replace('', np.nan, regex=True, inplace=True)\n",
    "cities_mlb['MLB'] = cities_mlb['MLB'].str.strip()\n",
    "cities_mlb.dropna(inplace=True)\n",
    "cities_mlb['Population'] = cities_mlb['Population'].astype(np.float)"
   ]
  },
  {
   "cell_type": "code",
   "execution_count": 14,
   "id": "091acfae",
   "metadata": {},
   "outputs": [],
   "source": [
    "# Set Metropolitan area as index in both dataframes then match by Metropolitan area\n",
    "# The final data for NBA has the win/loss ratio and the population of the area\n",
    "\n",
    "cities_mlb.set_index('Metropolitan area', inplace=True)\n",
    "mlb.set_index('metro', inplace=True)\n",
    "\n",
    "final_mlb = pd.merge(mlb, cities_mlb, left_index=True, right_index=True)\n",
    "final_mlb = final_mlb.groupby(final_mlb.index).agg({'ratio': np.mean, 'Population': 'first'})"
   ]
  },
  {
   "cell_type": "code",
   "execution_count": 20,
   "id": "6ce9076e",
   "metadata": {},
   "outputs": [
    {
     "data": {
      "text/plain": [
       "0.15027698302669307"
      ]
     },
     "execution_count": 20,
     "metadata": {},
     "output_type": "execute_result"
    }
   ],
   "source": [
    "# Calculate the win/loss ratio's correlation with the population of the city it is in for the **MLB**\n",
    "\n",
    "stats.pearsonr(final_mlb.Population, final_mlb.ratio)[0]"
   ]
  },
  {
   "cell_type": "markdown",
   "id": "08217c15",
   "metadata": {},
   "source": [
    "# NFL"
   ]
  },
  {
   "cell_type": "code",
   "execution_count": 21,
   "id": "dc3979e7",
   "metadata": {},
   "outputs": [],
   "source": [
    "# Clean-up the NFL data and calculate win/loss ratio in a new column\n",
    "\n",
    "nfl = nfl_df[nfl_df['year'] == 2018]\n",
    "nfl = nfl.iloc[:, [-4, 1,-2]]\n",
    "nfl['team'].replace('[*]', '', regex=True, inplace=True)\n",
    "nfl['team'].replace('[+]', '', regex=True, inplace=True)\n",
    "nfl['team'] = nfl['team'].str.strip()\n",
    "nfl['W'].replace('[a-zA-Z]+', np.nan, regex=True, inplace=True)\n",
    "nfl.dropna(inplace=True)\n",
    "nfl['W'] = nfl['W'].astype(np.float)\n",
    "nfl['L'] = nfl['L'].astype(np.float)\n",
    "nfl['ratio'] = nfl['W'] / (nfl['W'] + nfl['L'])\n",
    "nfl['metro'] = ''\n",
    "for i in nfl.index:\n",
    "    s = nfl['team'][i] \n",
    "    s = s.split()\n",
    "    nfl['metro'][i] = s[0]\n",
    "nfl['metro'].replace({'New': 'New York City',\n",
    "                     'Miami': 'Miami–Fort Lauderdale',\n",
    "                     'Tennessee': 'Nashville',\n",
    "                     'Kansas': 'Kansas City',\n",
    "                     'Los': 'Los Angeles',\n",
    "                     'Oakland': 'San Francisco Bay Area',\n",
    "                     'Dallas': 'Dallas–Fort Worth',\n",
    "                     'Washington': 'Washington, D.C.',\n",
    "                     'Minnesota': 'Minneapolis–Saint Paul',\n",
    "                     'Green': 'Green Bay',\n",
    "                     'Carolina': 'Charlotte',\n",
    "                     'Tampa': 'Tampa Bay Area',\n",
    "                     'San': 'San Francisco Bay Area',\n",
    "                     'Arizona': 'Phoenix'}, inplace=True)\n",
    "nfl['metro'][1] = 'Boston'\n",
    "nfl['metro'][31] = 'New Orleans'"
   ]
  },
  {
   "cell_type": "code",
   "execution_count": 22,
   "id": "0d8c6032",
   "metadata": {},
   "outputs": [],
   "source": [
    "# Clean-up the Metropolitan area data for NFL\n",
    "\n",
    "cities_nfl = cities.iloc[:, [0,1,2]]\n",
    "cities_nfl['NFL'].replace('[[].*[]]', '', regex=True, inplace=True)\n",
    "cities_nfl['NFL'].replace('[—]', np.nan, regex=True, inplace=True)\n",
    "cities_nfl['NFL'].replace('', np.nan, regex=True, inplace=True)\n",
    "cities_nfl.dropna(inplace=True)\n",
    "cities_nfl['Population'] = cities_nfl['Population'].astype(np.float)"
   ]
  },
  {
   "cell_type": "code",
   "execution_count": 23,
   "id": "1960ff74",
   "metadata": {},
   "outputs": [],
   "source": [
    "# Set Metropolitan area as index in both dataframes then match by Metropolitan area\n",
    "# The final data for NBA has the win/loss ratio and the population of the are\n",
    "\n",
    "cities_nfl.set_index('Metropolitan area', inplace=True)\n",
    "\n",
    "final_nfl = pd.merge(cities_nfl, nfl, left_index=True, right_on='metro')\n",
    "final_nfl = final_nfl.groupby('metro').agg({'ratio': np.mean, 'Population': 'first'})"
   ]
  },
  {
   "cell_type": "code",
   "execution_count": 24,
   "id": "79127b4f",
   "metadata": {},
   "outputs": [
    {
     "data": {
      "text/plain": [
       "0.004922112149349409"
      ]
     },
     "execution_count": 24,
     "metadata": {},
     "output_type": "execute_result"
    }
   ],
   "source": [
    "# Calculate the win/loss ratio's correlation with the population of the city it is in for the **MLB**\n",
    "\n",
    "stats.pearsonr(final_nfl.Population, final_nfl.ratio)[0]"
   ]
  },
  {
   "cell_type": "markdown",
   "id": "04a6b73f",
   "metadata": {},
   "source": [
    "# Let's explore the hypothesis \n",
    "\n",
    "Hypothesis: **given that an area has two sports teams in different sports, those teams will perform the same within their respective sports**. We will explore this with a series of paired **t-tests** between all pairs of sports. Are there any sports where we can reject the null hypothesis? Average values where a sport has multiple teams in one \n",
    "region. We will only include, for each sport, cities which have teams engaged in that sport,\n",
    "drop others as appropriate. "
   ]
  },
  {
   "cell_type": "code",
   "execution_count": 43,
   "id": "c202bf4e",
   "metadata": {},
   "outputs": [],
   "source": [
    "# Note: p_values is a full dataframe, so df.loc[\"NFL\",\"NBA\"] should be the same as df.loc[\"NBA\",\"NFL\"] and\n",
    "# df.loc[\"NFL\",\"NFL\"] should return np.nan\n",
    "\n",
    "sports = ['NFL', 'NBA', 'NHL', 'MLB']\n",
    "\n",
    "# create a blanc(with NaN values) 4*4 dataframe \n",
    "p_values = pd.DataFrame({k:np.nan for k in sports}, index=sports)\n",
    "\n",
    "NHL = final_nhl.groupby(final_nhl.index).agg({'ratio': np.mean})\n",
    "NBA = final_nba.groupby(final_nba.index).agg({'ratio': np.mean})\n",
    "MLB = final_mlb.groupby(final_mlb.index).agg({'ratio': np.mean})\n",
    "NFL = final_nfl.groupby('metro').agg({'ratio': np.mean})\n",
    "\n",
    "# a dictionary with team names as keys and their dataframes as values \n",
    "f_dic = {'NHL': NHL, 'NBA': NBA, 'MLB': MLB, 'NFL': NFL}\n",
    "\n",
    "# nested loop to match all possible pairs of teams together and calculate p-values for all possible combinations\n",
    "for a in sports:\n",
    "    for b in sports:\n",
    "        data1 = f_dic[a]\n",
    "        data2 = f_dic[b]\n",
    "        \n",
    "        merge = data1.merge(data2, left_index=True, right_index=True, suffixes=('_'+a, '_'+b))\n",
    "        test = ttest_rel(merge.values[:,0], merge.values[:,1])[1]\n",
    "        p_values[a][b] = test"
   ]
  },
  {
   "cell_type": "code",
   "execution_count": 44,
   "id": "7d2e7b7a",
   "metadata": {},
   "outputs": [
    {
     "data": {
      "text/html": [
       "<div>\n",
       "<style scoped>\n",
       "    .dataframe tbody tr th:only-of-type {\n",
       "        vertical-align: middle;\n",
       "    }\n",
       "\n",
       "    .dataframe tbody tr th {\n",
       "        vertical-align: top;\n",
       "    }\n",
       "\n",
       "    .dataframe thead th {\n",
       "        text-align: right;\n",
       "    }\n",
       "</style>\n",
       "<table border=\"1\" class=\"dataframe\">\n",
       "  <thead>\n",
       "    <tr style=\"text-align: right;\">\n",
       "      <th></th>\n",
       "      <th>NFL</th>\n",
       "      <th>NBA</th>\n",
       "      <th>NHL</th>\n",
       "      <th>MLB</th>\n",
       "    </tr>\n",
       "  </thead>\n",
       "  <tbody>\n",
       "    <tr>\n",
       "      <th>NFL</th>\n",
       "      <td>NaN</td>\n",
       "      <td>0.941792</td>\n",
       "      <td>0.030883</td>\n",
       "      <td>0.802069</td>\n",
       "    </tr>\n",
       "    <tr>\n",
       "      <th>NBA</th>\n",
       "      <td>0.941792</td>\n",
       "      <td>NaN</td>\n",
       "      <td>0.022297</td>\n",
       "      <td>0.950540</td>\n",
       "    </tr>\n",
       "    <tr>\n",
       "      <th>NHL</th>\n",
       "      <td>0.030883</td>\n",
       "      <td>0.022297</td>\n",
       "      <td>NaN</td>\n",
       "      <td>0.000708</td>\n",
       "    </tr>\n",
       "    <tr>\n",
       "      <th>MLB</th>\n",
       "      <td>0.802069</td>\n",
       "      <td>0.950540</td>\n",
       "      <td>0.000708</td>\n",
       "      <td>NaN</td>\n",
       "    </tr>\n",
       "  </tbody>\n",
       "</table>\n",
       "</div>"
      ],
      "text/plain": [
       "          NFL       NBA       NHL       MLB\n",
       "NFL       NaN  0.941792  0.030883  0.802069\n",
       "NBA  0.941792       NaN  0.022297  0.950540\n",
       "NHL  0.030883  0.022297       NaN  0.000708\n",
       "MLB  0.802069  0.950540  0.000708       NaN"
      ]
     },
     "execution_count": 44,
     "metadata": {},
     "output_type": "execute_result"
    }
   ],
   "source": [
    "p_values"
   ]
  },
  {
   "cell_type": "code",
   "execution_count": 27,
   "id": "526581ec",
   "metadata": {},
   "outputs": [],
   "source": [
    "# for NHL we can reject the null nypothesis with 5% significance level"
   ]
  },
  {
   "cell_type": "code",
   "execution_count": null,
   "id": "d432aba8",
   "metadata": {},
   "outputs": [],
   "source": []
  }
 ],
 "metadata": {
  "kernelspec": {
   "display_name": "Python 3 (ipykernel)",
   "language": "python",
   "name": "python3"
  },
  "language_info": {
   "codemirror_mode": {
    "name": "ipython",
    "version": 3
   },
   "file_extension": ".py",
   "mimetype": "text/x-python",
   "name": "python",
   "nbconvert_exporter": "python",
   "pygments_lexer": "ipython3",
   "version": "3.10.0"
  }
 },
 "nbformat": 4,
 "nbformat_minor": 5
}
